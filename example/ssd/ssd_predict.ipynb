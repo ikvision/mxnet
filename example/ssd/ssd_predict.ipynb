{
 "cells": [
  {
   "cell_type": "code",
   "execution_count": 1,
   "metadata": {
    "collapsed": false
   },
   "outputs": [],
   "source": [
    "import os\n",
    "import sys\n",
    "import mxnet as mx\n",
    "import skimage.io\n",
    "import argparse\n",
    "import importlib"
   ]
  },
  {
   "cell_type": "code",
   "execution_count": 2,
   "metadata": {
    "collapsed": false
   },
   "outputs": [],
   "source": [
    "sys.path.append(os.path.join(os.getcwd(),'dataset'))\n",
    "from detect.detector import Detector"
   ]
  },
  {
   "cell_type": "code",
   "execution_count": 3,
   "metadata": {
    "collapsed": true
   },
   "outputs": [],
   "source": [
    "CLASSES = ('aeroplane', 'bicycle', 'bird', 'boat',\n",
    "           'bottle', 'bus', 'car', 'cat', 'chair',\n",
    "           'cow', 'diningtable', 'dog', 'horse',\n",
    "           'motorbike', 'person', 'pottedplant',\n",
    "           'sheep', 'sofa', 'train', 'tvmonitor')"
   ]
  },
  {
   "cell_type": "code",
   "execution_count": 4,
   "metadata": {
    "collapsed": true
   },
   "outputs": [],
   "source": [
    "def get_detector(net, prefix, epoch, data_shape, mean_pixels, ctx,\n",
    "                 nms_thresh=0.5, force_nms=True):\n",
    "    \"\"\"\n",
    "    wrapper for initialize a detector\n",
    "\n",
    "    Parameters:\n",
    "    ----------\n",
    "    net : str\n",
    "        test network name\n",
    "    prefix : str\n",
    "        load model prefix\n",
    "    epoch : int\n",
    "        load model epoch\n",
    "    data_shape : int\n",
    "        resize image shape\n",
    "    mean_pixels : tuple (float, float, float)\n",
    "        mean pixel values (R, G, B)\n",
    "    ctx : mx.ctx\n",
    "        running context, mx.cpu() or mx.gpu(?)\n",
    "    force_nms : bool\n",
    "        force suppress different categories\n",
    "    \"\"\"\n",
    "    sys.path.append(os.path.join(os.getcwd(), 'symbol'))\n",
    "    net = importlib.import_module(\"symbol_\" + net) \\\n",
    "        .get_symbol(len(CLASSES), nms_thresh, force_nms)\n",
    "    detector = Detector(net, prefix + \"_\" + str(data_shape), epoch, \\\n",
    "        data_shape, mean_pixels, ctx=ctx)\n",
    "    return detector"
   ]
  },
  {
   "cell_type": "code",
   "execution_count": 5,
   "metadata": {
    "collapsed": true
   },
   "outputs": [],
   "source": [
    "def default_args():\n",
    "    parser = argparse.ArgumentParser(description='Single-shot detection network demo')\n",
    "    parser.add_argument('--network', dest='network', type=str, default='vgg16_reduced',\n",
    "                        choices=['vgg16_reduced'], help='which network to use')\n",
    "    parser.add_argument('--images', dest='images', type=str, default='dog,person,000004',\n",
    "                        help='run demo with images, use comma(without space) to seperate multiple images')\n",
    "    parser.add_argument('--dir', dest='dir', nargs='?',default ='./data/demo/',\n",
    "                        help='demo image directory, optional', type=str)\n",
    "    parser.add_argument('--ext', dest='extension', default='.jpg',\n",
    "                        help='image extension, optional',type=str, nargs='?')\n",
    "    parser.add_argument('--epoch', dest='epoch', help='epoch of trained model',\n",
    "                        default=0, type=int)\n",
    "    parser.add_argument('--prefix', dest='prefix', help='trained model prefix',\n",
    "                        default=os.path.join(os.getcwd(), 'model', 'ssd'), type=str)\n",
    "    parser.add_argument('--cpu', dest='cpu', help='(override GPU) use CPU to detect',\n",
    "                        action='store_true', default=False)\n",
    "    parser.add_argument('--gpu', dest='gpus', type=str, default='-1',\n",
    "                        help='GPU device id to detect with')\n",
    "    parser.add_argument('--data-shape', dest='data_shape', type=int, default=300,\n",
    "                        help='set image shape')\n",
    "    parser.add_argument('--mean-r', dest='mean_r', type=float, default=123,\n",
    "                        help='red mean value')\n",
    "    parser.add_argument('--mean-g', dest='mean_g', type=float, default=117,\n",
    "                        help='green mean value')\n",
    "    parser.add_argument('--mean-b', dest='mean_b', type=float, default=104,\n",
    "                        help='blue mean value')\n",
    "    parser.add_argument('--thresh', dest='thresh', type=float, default=0.5,\n",
    "                        help='object visualize score threshold, default 0.6')\n",
    "    parser.add_argument('--nms', dest='nms_thresh', type=float, default=0.5,\n",
    "                        help='non-maximum suppression threshold, default 0.5')\n",
    "    parser.add_argument('--force', dest='force_nms', type=bool, default=True,\n",
    "                        help='force non-maximum suppression on different class')\n",
    "    parser.add_argument('--timer', dest='show_timer', type=bool, default=True,\n",
    "                        help='show detection time')\n",
    "    return parser"
   ]
  },
  {
   "cell_type": "code",
   "execution_count": 6,
   "metadata": {
    "collapsed": true
   },
   "outputs": [],
   "source": [
    "args = default_args().parse_args(args='')\n",
    "if args.gpus=='-1':\n",
    "    ctx = [mx.cpu()]\n",
    "else:\n",
    "    ctx = [mx.gpu(int(i)) for i in args.gpus.split(',')]\n",
    "# parse image list\n",
    "image_list = [i.strip() for i in args.images.split(',')]\n",
    "assert len(image_list) > 0, \"No valid image specified to detect\""
   ]
  },
  {
   "cell_type": "code",
   "execution_count": 7,
   "metadata": {
    "collapsed": false
   },
   "outputs": [
    {
     "ename": "MXNetError",
     "evalue": "Failed loading Op relu4_3_scale_20 of type Scale: [09:19:02] src/core/op.cc:55: Check failed: op != nullptr Operator Scale is not registered\n\nStack trace returned 10 entries:\n[bt] (0) 0   libmxnet.so                         0x000000010f2393e5 _ZN4dmlc15LogMessageFatalD2Ev + 37\n[bt] (1) 1   libmxnet.so                         0x000000010f236339 _ZN4dmlc15LogMessageFatalD1Ev + 9\n[bt] (2) 2   libmxnet.so                         0x000000010fb95838 _ZN4nnvm2Op3GetERKNSt3__112basic_stringIcNS1_11char_traitsIcEENS1_9allocatorIcEEEE + 424\n[bt] (3) 3   libmxnet.so                         0x000000010fbc73f8 _ZN4dmlc20JSONObjectReadHelper14ReaderFunctionINSt3__16vectorIN4nnvm4pass12_GLOBAL__N_18JSONNodeENS2_9allocatorIS7_EEEEEEvPNS_10JSONReaderEPv + 2104\n[bt] (4) 4   libmxnet.so                         0x000000010fbc65d0 _ZN4dmlc20JSONObjectReadHelper13ReadAllFieldsEPNS_10JSONReaderE + 192\n[bt] (5) 5   libmxnet.so                         0x000000010fbc2d6e _ZN4nnvm4pass12_GLOBAL__N_18LoadJSONENS_5GraphE + 1390\n[bt] (6) 6   libmxnet.so                         0x000000010f909e64 _ZNSt3__128__invoke_void_return_wrapperIN4nnvm5GraphEE6__callIJRPFS2_S2_ES2_EEES2_DpOT_ + 212\n[bt] (7) 7   libmxnet.so                         0x000000010f909d52 _ZNSt3__110__function6__funcIPFN4nnvm5GraphES3_ENS_9allocatorIS5_EES4_EclEOS3_ + 18\n[bt] (8) 8   libmxnet.so                         0x000000010fb9820b _ZN4nnvm11ApplyPassesENS_5GraphERKNSt3__16vectorINS1_12basic_stringIcNS1_11char_traitsIcEENS1_9allocatorIcEEEENS6_IS8_EEEE + 1419\n[bt] (9) 9   libmxnet.so                         0x000000010f83cc00 _ZN4nnvm9ApplyPassENS_5GraphERKNSt3__112basic_stringIcNS1_11char_traitsIcEENS1_9allocatorIcEEEE + 208\n",
     "output_type": "error",
     "traceback": [
      "\u001b[0;31m---------------------------------------------------------------------------\u001b[0m",
      "\u001b[0;31mMXNetError\u001b[0m                                Traceback (most recent call last)",
      "\u001b[0;32m<ipython-input-7-6c582493dea8>\u001b[0m in \u001b[0;36m<module>\u001b[0;34m()\u001b[0m\n\u001b[1;32m      2\u001b[0m                         \u001b[0margs\u001b[0m\u001b[0;34m.\u001b[0m\u001b[0mdata_shape\u001b[0m\u001b[0;34m,\u001b[0m\u001b[0;34m\u001b[0m\u001b[0m\n\u001b[1;32m      3\u001b[0m                         \u001b[0;34m(\u001b[0m\u001b[0margs\u001b[0m\u001b[0;34m.\u001b[0m\u001b[0mmean_r\u001b[0m\u001b[0;34m,\u001b[0m \u001b[0margs\u001b[0m\u001b[0;34m.\u001b[0m\u001b[0mmean_g\u001b[0m\u001b[0;34m,\u001b[0m \u001b[0margs\u001b[0m\u001b[0;34m.\u001b[0m\u001b[0mmean_b\u001b[0m\u001b[0;34m)\u001b[0m\u001b[0;34m,\u001b[0m\u001b[0;34m\u001b[0m\u001b[0m\n\u001b[0;32m----> 4\u001b[0;31m                         ctx, args.nms_thresh, args.force_nms)\n\u001b[0m\u001b[1;32m      5\u001b[0m \u001b[0;31m# run detection\u001b[0m\u001b[0;34m\u001b[0m\u001b[0;34m\u001b[0m\u001b[0m\n\u001b[1;32m      6\u001b[0m detector.detect_and_visualize(image_list, args.dir, args.extension,\n",
      "\u001b[0;32m<ipython-input-4-b7315709dae2>\u001b[0m in \u001b[0;36mget_detector\u001b[0;34m(net, prefix, epoch, data_shape, mean_pixels, ctx, nms_thresh, force_nms)\u001b[0m\n\u001b[1;32m     23\u001b[0m     \u001b[0msys\u001b[0m\u001b[0;34m.\u001b[0m\u001b[0mpath\u001b[0m\u001b[0;34m.\u001b[0m\u001b[0mappend\u001b[0m\u001b[0;34m(\u001b[0m\u001b[0mos\u001b[0m\u001b[0;34m.\u001b[0m\u001b[0mpath\u001b[0m\u001b[0;34m.\u001b[0m\u001b[0mjoin\u001b[0m\u001b[0;34m(\u001b[0m\u001b[0mos\u001b[0m\u001b[0;34m.\u001b[0m\u001b[0mgetcwd\u001b[0m\u001b[0;34m(\u001b[0m\u001b[0;34m)\u001b[0m\u001b[0;34m,\u001b[0m \u001b[0;34m'symbol'\u001b[0m\u001b[0;34m)\u001b[0m\u001b[0;34m)\u001b[0m\u001b[0;34m\u001b[0m\u001b[0m\n\u001b[1;32m     24\u001b[0m     \u001b[0mnet\u001b[0m \u001b[0;34m=\u001b[0m \u001b[0mimportlib\u001b[0m\u001b[0;34m.\u001b[0m\u001b[0mimport_module\u001b[0m\u001b[0;34m(\u001b[0m\u001b[0;34m\"symbol_\"\u001b[0m \u001b[0;34m+\u001b[0m \u001b[0mnet\u001b[0m\u001b[0;34m)\u001b[0m         \u001b[0;34m.\u001b[0m\u001b[0mget_symbol\u001b[0m\u001b[0;34m(\u001b[0m\u001b[0mlen\u001b[0m\u001b[0;34m(\u001b[0m\u001b[0mCLASSES\u001b[0m\u001b[0;34m)\u001b[0m\u001b[0;34m,\u001b[0m \u001b[0mnms_thresh\u001b[0m\u001b[0;34m,\u001b[0m \u001b[0mforce_nms\u001b[0m\u001b[0;34m)\u001b[0m\u001b[0;34m\u001b[0m\u001b[0m\n\u001b[0;32m---> 25\u001b[0;31m     \u001b[0mdetector\u001b[0m \u001b[0;34m=\u001b[0m \u001b[0mDetector\u001b[0m\u001b[0;34m(\u001b[0m\u001b[0mnet\u001b[0m\u001b[0;34m,\u001b[0m \u001b[0mprefix\u001b[0m \u001b[0;34m+\u001b[0m \u001b[0;34m\"_\"\u001b[0m \u001b[0;34m+\u001b[0m \u001b[0mstr\u001b[0m\u001b[0;34m(\u001b[0m\u001b[0mdata_shape\u001b[0m\u001b[0;34m)\u001b[0m\u001b[0;34m,\u001b[0m \u001b[0mepoch\u001b[0m\u001b[0;34m,\u001b[0m         \u001b[0mdata_shape\u001b[0m\u001b[0;34m,\u001b[0m \u001b[0mmean_pixels\u001b[0m\u001b[0;34m,\u001b[0m \u001b[0mctx\u001b[0m\u001b[0;34m=\u001b[0m\u001b[0mctx\u001b[0m\u001b[0;34m)\u001b[0m\u001b[0;34m\u001b[0m\u001b[0m\n\u001b[0m\u001b[1;32m     26\u001b[0m     \u001b[0;32mreturn\u001b[0m \u001b[0mdetector\u001b[0m\u001b[0;34m\u001b[0m\u001b[0m\n",
      "\u001b[0;32m/Users/imry/github_code/mxnet/example/ssd/detect/detector.pyc\u001b[0m in \u001b[0;36m__init__\u001b[0;34m(self, symbol, model_prefix, epoch, data_shape, mean_pixels, batch_size, ctx)\u001b[0m\n\u001b[1;32m     32\u001b[0m         \u001b[0;32mif\u001b[0m \u001b[0mself\u001b[0m\u001b[0;34m.\u001b[0m\u001b[0mctx\u001b[0m \u001b[0;32mis\u001b[0m \u001b[0mNone\u001b[0m\u001b[0;34m:\u001b[0m\u001b[0;34m\u001b[0m\u001b[0m\n\u001b[1;32m     33\u001b[0m             \u001b[0mself\u001b[0m\u001b[0;34m.\u001b[0m\u001b[0mctx\u001b[0m \u001b[0;34m=\u001b[0m \u001b[0mmx\u001b[0m\u001b[0;34m.\u001b[0m\u001b[0mcpu\u001b[0m\u001b[0;34m(\u001b[0m\u001b[0;34m)\u001b[0m\u001b[0;34m\u001b[0m\u001b[0m\n\u001b[0;32m---> 34\u001b[0;31m         \u001b[0m_\u001b[0m\u001b[0;34m,\u001b[0m \u001b[0margs\u001b[0m\u001b[0;34m,\u001b[0m \u001b[0mauxs\u001b[0m \u001b[0;34m=\u001b[0m \u001b[0mmx\u001b[0m\u001b[0;34m.\u001b[0m\u001b[0mmodel\u001b[0m\u001b[0;34m.\u001b[0m\u001b[0mload_checkpoint\u001b[0m\u001b[0;34m(\u001b[0m\u001b[0mmodel_prefix\u001b[0m\u001b[0;34m,\u001b[0m \u001b[0mepoch\u001b[0m\u001b[0;34m)\u001b[0m\u001b[0;34m\u001b[0m\u001b[0m\n\u001b[0m\u001b[1;32m     35\u001b[0m         \u001b[0mself\u001b[0m\u001b[0;34m.\u001b[0m\u001b[0mmod\u001b[0m \u001b[0;34m=\u001b[0m \u001b[0mmx\u001b[0m\u001b[0;34m.\u001b[0m\u001b[0mmod\u001b[0m\u001b[0;34m.\u001b[0m\u001b[0mModule\u001b[0m\u001b[0;34m(\u001b[0m\u001b[0msymbol\u001b[0m\u001b[0;34m,\u001b[0m \u001b[0mcontext\u001b[0m\u001b[0;34m=\u001b[0m\u001b[0mctx\u001b[0m\u001b[0;34m)\u001b[0m\u001b[0;34m\u001b[0m\u001b[0m\n\u001b[1;32m     36\u001b[0m         \u001b[0mself\u001b[0m\u001b[0;34m.\u001b[0m\u001b[0mdata_shape\u001b[0m \u001b[0;34m=\u001b[0m \u001b[0mdata_shape\u001b[0m\u001b[0;34m\u001b[0m\u001b[0m\n",
      "\u001b[0;32m/Library/anaconda/envs/python2/lib/python2.7/site-packages/mxnet-0.9.4-py2.7.egg/mxnet/model.pyc\u001b[0m in \u001b[0;36mload_checkpoint\u001b[0;34m(prefix, epoch)\u001b[0m\n\u001b[1;32m    371\u001b[0m     \u001b[0;34m-\u001b[0m \u001b[0mparameters\u001b[0m \u001b[0mwill\u001b[0m \u001b[0mbe\u001b[0m \u001b[0mloaded\u001b[0m \u001b[0;32mfrom\u001b[0m \u001b[0;34m`\u001b[0m\u001b[0;34m`\u001b[0m\u001b[0mprefix\u001b[0m\u001b[0;34m-\u001b[0m\u001b[0mepoch\u001b[0m\u001b[0;34m.\u001b[0m\u001b[0mparams\u001b[0m\u001b[0;34m`\u001b[0m\u001b[0;34m`\u001b[0m\u001b[0;34m.\u001b[0m\u001b[0;34m\u001b[0m\u001b[0m\n\u001b[1;32m    372\u001b[0m     \"\"\"\n\u001b[0;32m--> 373\u001b[0;31m     \u001b[0msymbol\u001b[0m \u001b[0;34m=\u001b[0m \u001b[0msym\u001b[0m\u001b[0;34m.\u001b[0m\u001b[0mload\u001b[0m\u001b[0;34m(\u001b[0m\u001b[0;34m'%s-symbol.json'\u001b[0m \u001b[0;34m%\u001b[0m \u001b[0mprefix\u001b[0m\u001b[0;34m)\u001b[0m\u001b[0;34m\u001b[0m\u001b[0m\n\u001b[0m\u001b[1;32m    374\u001b[0m     \u001b[0msave_dict\u001b[0m \u001b[0;34m=\u001b[0m \u001b[0mnd\u001b[0m\u001b[0;34m.\u001b[0m\u001b[0mload\u001b[0m\u001b[0;34m(\u001b[0m\u001b[0;34m'%s-%04d.params'\u001b[0m \u001b[0;34m%\u001b[0m \u001b[0;34m(\u001b[0m\u001b[0mprefix\u001b[0m\u001b[0;34m,\u001b[0m \u001b[0mepoch\u001b[0m\u001b[0;34m)\u001b[0m\u001b[0;34m)\u001b[0m\u001b[0;34m\u001b[0m\u001b[0m\n\u001b[1;32m    375\u001b[0m     \u001b[0marg_params\u001b[0m \u001b[0;34m=\u001b[0m \u001b[0;34m{\u001b[0m\u001b[0;34m}\u001b[0m\u001b[0;34m\u001b[0m\u001b[0m\n",
      "\u001b[0;32m/Library/anaconda/envs/python2/lib/python2.7/site-packages/mxnet-0.9.4-py2.7.egg/mxnet/symbol.pyc\u001b[0m in \u001b[0;36mload\u001b[0;34m(fname)\u001b[0m\n\u001b[1;32m   1164\u001b[0m         \u001b[0;32mraise\u001b[0m \u001b[0mTypeError\u001b[0m\u001b[0;34m(\u001b[0m\u001b[0;34m'fname need to be string'\u001b[0m\u001b[0;34m)\u001b[0m\u001b[0;34m\u001b[0m\u001b[0m\n\u001b[1;32m   1165\u001b[0m     \u001b[0mhandle\u001b[0m \u001b[0;34m=\u001b[0m \u001b[0mSymbolHandle\u001b[0m\u001b[0;34m(\u001b[0m\u001b[0;34m)\u001b[0m\u001b[0;34m\u001b[0m\u001b[0m\n\u001b[0;32m-> 1166\u001b[0;31m     \u001b[0mcheck_call\u001b[0m\u001b[0;34m(\u001b[0m\u001b[0m_LIB\u001b[0m\u001b[0;34m.\u001b[0m\u001b[0mMXSymbolCreateFromFile\u001b[0m\u001b[0;34m(\u001b[0m\u001b[0mc_str\u001b[0m\u001b[0;34m(\u001b[0m\u001b[0mfname\u001b[0m\u001b[0;34m)\u001b[0m\u001b[0;34m,\u001b[0m \u001b[0mctypes\u001b[0m\u001b[0;34m.\u001b[0m\u001b[0mbyref\u001b[0m\u001b[0;34m(\u001b[0m\u001b[0mhandle\u001b[0m\u001b[0;34m)\u001b[0m\u001b[0;34m)\u001b[0m\u001b[0;34m)\u001b[0m\u001b[0;34m\u001b[0m\u001b[0m\n\u001b[0m\u001b[1;32m   1167\u001b[0m     \u001b[0;32mreturn\u001b[0m \u001b[0mSymbol\u001b[0m\u001b[0;34m(\u001b[0m\u001b[0mhandle\u001b[0m\u001b[0;34m)\u001b[0m\u001b[0;34m\u001b[0m\u001b[0m\n\u001b[1;32m   1168\u001b[0m \u001b[0;34m\u001b[0m\u001b[0m\n",
      "\u001b[0;32m/Library/anaconda/envs/python2/lib/python2.7/site-packages/mxnet-0.9.4-py2.7.egg/mxnet/base.pyc\u001b[0m in \u001b[0;36mcheck_call\u001b[0;34m(ret)\u001b[0m\n\u001b[1;32m     76\u001b[0m     \"\"\"\n\u001b[1;32m     77\u001b[0m     \u001b[0;32mif\u001b[0m \u001b[0mret\u001b[0m \u001b[0;34m!=\u001b[0m \u001b[0;36m0\u001b[0m\u001b[0;34m:\u001b[0m\u001b[0;34m\u001b[0m\u001b[0m\n\u001b[0;32m---> 78\u001b[0;31m         \u001b[0;32mraise\u001b[0m \u001b[0mMXNetError\u001b[0m\u001b[0;34m(\u001b[0m\u001b[0mpy_str\u001b[0m\u001b[0;34m(\u001b[0m\u001b[0m_LIB\u001b[0m\u001b[0;34m.\u001b[0m\u001b[0mMXGetLastError\u001b[0m\u001b[0;34m(\u001b[0m\u001b[0;34m)\u001b[0m\u001b[0;34m)\u001b[0m\u001b[0;34m)\u001b[0m\u001b[0;34m\u001b[0m\u001b[0m\n\u001b[0m\u001b[1;32m     79\u001b[0m \u001b[0;34m\u001b[0m\u001b[0m\n\u001b[1;32m     80\u001b[0m \u001b[0;32mif\u001b[0m \u001b[0msys\u001b[0m\u001b[0;34m.\u001b[0m\u001b[0mversion_info\u001b[0m\u001b[0;34m[\u001b[0m\u001b[0;36m0\u001b[0m\u001b[0;34m]\u001b[0m \u001b[0;34m<\u001b[0m \u001b[0;36m3\u001b[0m\u001b[0;34m:\u001b[0m\u001b[0;34m\u001b[0m\u001b[0m\n",
      "\u001b[0;31mMXNetError\u001b[0m: Failed loading Op relu4_3_scale_20 of type Scale: [09:19:02] src/core/op.cc:55: Check failed: op != nullptr Operator Scale is not registered\n\nStack trace returned 10 entries:\n[bt] (0) 0   libmxnet.so                         0x000000010f2393e5 _ZN4dmlc15LogMessageFatalD2Ev + 37\n[bt] (1) 1   libmxnet.so                         0x000000010f236339 _ZN4dmlc15LogMessageFatalD1Ev + 9\n[bt] (2) 2   libmxnet.so                         0x000000010fb95838 _ZN4nnvm2Op3GetERKNSt3__112basic_stringIcNS1_11char_traitsIcEENS1_9allocatorIcEEEE + 424\n[bt] (3) 3   libmxnet.so                         0x000000010fbc73f8 _ZN4dmlc20JSONObjectReadHelper14ReaderFunctionINSt3__16vectorIN4nnvm4pass12_GLOBAL__N_18JSONNodeENS2_9allocatorIS7_EEEEEEvPNS_10JSONReaderEPv + 2104\n[bt] (4) 4   libmxnet.so                         0x000000010fbc65d0 _ZN4dmlc20JSONObjectReadHelper13ReadAllFieldsEPNS_10JSONReaderE + 192\n[bt] (5) 5   libmxnet.so                         0x000000010fbc2d6e _ZN4nnvm4pass12_GLOBAL__N_18LoadJSONENS_5GraphE + 1390\n[bt] (6) 6   libmxnet.so                         0x000000010f909e64 _ZNSt3__128__invoke_void_return_wrapperIN4nnvm5GraphEE6__callIJRPFS2_S2_ES2_EEES2_DpOT_ + 212\n[bt] (7) 7   libmxnet.so                         0x000000010f909d52 _ZNSt3__110__function6__funcIPFN4nnvm5GraphES3_ENS_9allocatorIS5_EES4_EclEOS3_ + 18\n[bt] (8) 8   libmxnet.so                         0x000000010fb9820b _ZN4nnvm11ApplyPassesENS_5GraphERKNSt3__16vectorINS1_12basic_stringIcNS1_11char_traitsIcEENS1_9allocatorIcEEEENS6_IS8_EEEE + 1419\n[bt] (9) 9   libmxnet.so                         0x000000010f83cc00 _ZN4nnvm9ApplyPassENS_5GraphERKNSt3__112basic_stringIcNS1_11char_traitsIcEENS1_9allocatorIcEEEE + 208\n"
     ]
    }
   ],
   "source": [
    "detector = get_detector(args.network, args.prefix, args.epoch,\n",
    "                        args.data_shape,\n",
    "                        (args.mean_r, args.mean_g, args.mean_b),\n",
    "                        ctx, args.nms_thresh, args.force_nms)\n",
    "# run detection\n",
    "detector.detect_and_visualize(image_list, args.dir, args.extension,\n",
    "                               CLASSES, args.thresh, args.show_timer)"
   ]
  },
  {
   "cell_type": "code",
   "execution_count": null,
   "metadata": {
    "collapsed": true
   },
   "outputs": [],
   "source": []
  },
  {
   "cell_type": "code",
   "execution_count": null,
   "metadata": {
    "collapsed": true
   },
   "outputs": [],
   "source": []
  }
 ],
 "metadata": {
  "kernelspec": {
   "display_name": "Python [conda env:python2]",
   "language": "python",
   "name": "conda-env-python2-py"
  },
  "language_info": {
   "codemirror_mode": {
    "name": "ipython",
    "version": 2
   },
   "file_extension": ".py",
   "mimetype": "text/x-python",
   "name": "python",
   "nbconvert_exporter": "python",
   "pygments_lexer": "ipython2",
   "version": "2.7.13"
  }
 },
 "nbformat": 4,
 "nbformat_minor": 1
}
