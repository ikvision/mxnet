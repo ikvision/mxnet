{
 "cells": [
  {
   "cell_type": "code",
   "execution_count": 1,
   "metadata": {
    "collapsed": false
   },
   "outputs": [],
   "source": [
    "import wget\n",
    "import os\n",
    "import zipfile\n",
    "import tarfile"
   ]
  },
  {
   "cell_type": "code",
   "execution_count": 2,
   "metadata": {
    "collapsed": true
   },
   "outputs": [],
   "source": [
    "ssd_folder = os.path.abspath('.')\n",
    "models_folder = os.path.join(ssd_folder,'model')\n",
    "download_folder = os.path.join(ssd_folder,'data')\n",
    "pascal_folder = os.path.join(download_folder,'VOCdevKit')"
   ]
  },
  {
   "cell_type": "code",
   "execution_count": 3,
   "metadata": {
    "collapsed": true
   },
   "outputs": [],
   "source": [
    "def download_uzip(model_file,url_prefix,zip_file,models_folder):\n",
    "    downloaded_zip_file = os.path.join(models_folder,zip_file)\n",
    "    if os.path.isfile(model_file)==False:\n",
    "        wget.download(url_prefix+zip_file,models_folder)    \n",
    "        with zipfile.ZipFile(downloaded_zip_file,\"r\") as zip_ref:\n",
    "            zip_ref.extractall(models_folder)\n",
    "        os.remove(downloaded_zip_file)\n",
    "    print('File {0} is available '.format(model_file))"
   ]
  },
  {
   "cell_type": "markdown",
   "metadata": {},
   "source": [
    "## Download pre-trained model for prediction"
   ]
  },
  {
   "cell_type": "code",
   "execution_count": 4,
   "metadata": {
    "collapsed": false
   },
   "outputs": [
    {
     "name": "stdout",
     "output_type": "stream",
     "text": [
      "File /Users/imry/github_code/mxnet/example/ssd/model/ssd_300-0000.params is available \n",
      "ready for ssd_predict\n"
     ]
    }
   ],
   "source": [
    "download_uzip(model_file=os.path.join(models_folder,'ssd_300-0000.params'),\n",
    "              url_prefix='https://github.com/zhreshold/mxnet-ssd/releases/download/v0.2-beta/',\n",
    "              zip_file='ssd_300_voc0712.zip',\n",
    "              models_folder=models_folder)\n",
    "print('ready for ssd_predict')"
   ]
  },
  {
   "cell_type": "markdown",
   "metadata": {},
   "source": [
    "## Download pre-trained model for training"
   ]
  },
  {
   "cell_type": "code",
   "execution_count": 5,
   "metadata": {
    "collapsed": false
   },
   "outputs": [
    {
     "name": "stdout",
     "output_type": "stream",
     "text": [
      "File /Users/imry/github_code/mxnet/example/ssd/model/vgg16_reduced-0001.params is available \n"
     ]
    }
   ],
   "source": [
    "download_uzip(model_file=os.path.join(models_folder,'vgg16_reduced-0001.params'),\n",
    "              url_prefix='https://github.com/zhreshold/mxnet-ssd/releases/download/v0.2-beta/',\n",
    "              zip_file='vgg16_reduced.zip',\n",
    "              models_folder=models_folder)"
   ]
  },
  {
   "cell_type": "markdown",
   "metadata": {},
   "source": [
    "## Download VOC data for training"
   ]
  },
  {
   "cell_type": "code",
   "execution_count": 6,
   "metadata": {
    "collapsed": false
   },
   "outputs": [
    {
     "name": "stdout",
     "output_type": "stream",
     "text": [
      "Ready for ssd_train\n"
     ]
    }
   ],
   "source": [
    "request_url = 'http://host.robots.ox.ac.uk/pascal/VOC/'\n",
    "tar_files_list = ['VOCtrainval_11-May-2012.tar','VOCtrainval_06-Nov-2007.tar','VOCtest_06-Nov-2007.tar']\n",
    "tar_file_folder_list = ['voc2012/','voc2007/','voc2007/']\n",
    "\n",
    "for tar_folder,tar_file in zip(tar_file_folder_list,tar_files_list):\n",
    "    download_url = request_url+tar_folder+tar_file\n",
    "    downloaded_tar = os.path.join(download_folder,tar_file)\n",
    "    if os.path.isfile(downloaded_tar)==False:\n",
    "        wget.download(download_url,download_folder)\n",
    "    tar = tarfile.open(downloaded_tar)\n",
    "    tar.extractall(path=download_folder)\n",
    "    tar.close()\n",
    "    os.remove(downloaded_tar)\n",
    "\n",
    "print ('Ready for ssd_train')"
   ]
  },
  {
   "cell_type": "code",
   "execution_count": null,
   "metadata": {
    "collapsed": true
   },
   "outputs": [],
   "source": []
  }
 ],
 "metadata": {
  "kernelspec": {
   "display_name": "Python [conda env:python2]",
   "language": "python",
   "name": "conda-env-python2-py"
  },
  "language_info": {
   "codemirror_mode": {
    "name": "ipython",
    "version": 2
   },
   "file_extension": ".py",
   "mimetype": "text/x-python",
   "name": "python",
   "nbconvert_exporter": "python",
   "pygments_lexer": "ipython2",
   "version": "2.7.13"
  }
 },
 "nbformat": 4,
 "nbformat_minor": 1
}
